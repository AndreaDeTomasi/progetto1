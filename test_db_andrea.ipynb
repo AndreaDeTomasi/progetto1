{
 "cells": [
  {
   "cell_type": "code",
   "execution_count": 1,
   "metadata": {},
   "outputs": [],
   "source": [
    "import psycopg2\n",
    "from config import config"
   ]
  },
  {
   "cell_type": "code",
   "execution_count": 2,
   "metadata": {},
   "outputs": [
    {
     "name": "stdout",
     "output_type": "stream",
     "text": [
      "connecting to database early warning...\n",
      "early warning database version:\n",
      "('PostgreSQL 12.18 (Ubuntu 12.18-0ubuntu0.20.04.1) on x86_64-pc-linux-gnu, compiled by gcc (Ubuntu 9.4.0-1ubuntu1~20.04.2) 9.4.0, 64-bit',)\n"
     ]
    }
   ],
   "source": [
    "def connect():\n",
    "    connection = None\n",
    "    params = config()\n",
    "    print('connecting to database early warning...')\n",
    "    connection = psycopg2.connect(**params)\n",
    "\n",
    "    # create a cursor\n",
    "    cursor = connection.cursor()\n",
    "    print('early warning database version:')\n",
    "    cursor.execute('SELECT version()')\n",
    "    db_version = cursor.fetchone()\n",
    "    print(db_version)\n",
    "\n",
    "    return connection\n",
    "\n",
    "connessione = connect()\n",
    "    "
   ]
  },
  {
   "cell_type": "code",
   "execution_count": 4,
   "metadata": {},
   "outputs": [
    {
     "name": "stdout",
     "output_type": "stream",
     "text": [
      "Database connection closed\n"
     ]
    }
   ],
   "source": [
    "# Close the cursor and connection\n",
    "cursor = connessione.cursor()\n",
    "cursor.close()\n",
    "connessione.close()\n",
    "print(\"Database connection closed\")"
   ]
  }
 ],
 "metadata": {
  "kernelspec": {
   "display_name": ".earlywarning",
   "language": "python",
   "name": "python3"
  },
  "language_info": {
   "codemirror_mode": {
    "name": "ipython",
    "version": 3
   },
   "file_extension": ".py",
   "mimetype": "text/x-python",
   "name": "python",
   "nbconvert_exporter": "python",
   "pygments_lexer": "ipython3",
   "version": "3.13.1"
  }
 },
 "nbformat": 4,
 "nbformat_minor": 2
}
